{
 "cells": [
  {
   "cell_type": "code",
   "execution_count": 1,
   "metadata": {},
   "outputs": [],
   "source": [
    "from fastai.vision.all import *\n",
    "from fastai.vision.widgets import *"
   ]
  },
  {
   "cell_type": "code",
   "execution_count": 2,
   "metadata": {},
   "outputs": [],
   "source": [
    "learn_inf=load_learner(\"ship_detection_good.pkl\")"
   ]
  },
  {
   "cell_type": "code",
   "execution_count": 3,
   "metadata": {},
   "outputs": [
    {
     "data": {
      "text/plain": [
       "['air_car', 'container', 'cruise', 'sub', 'tanker']"
      ]
     },
     "execution_count": 3,
     "metadata": {},
     "output_type": "execute_result"
    }
   ],
   "source": [
    "learn_inf.dls.vocab"
   ]
  },
  {
   "cell_type": "code",
   "execution_count": 4,
   "metadata": {},
   "outputs": [],
   "source": [
    "full_names = {\"air_car\":\"Aircraft carrier\", \"container\": \"Container ship\", \"cruise\": \"Cruise ship\", \"sub\":\"Submarine\", \"tanker\": \"Oil tanker\"}"
   ]
  },
  {
   "cell_type": "code",
   "execution_count": 5,
   "metadata": {},
   "outputs": [],
   "source": [
    "file_btn = FileUpload()"
   ]
  },
  {
   "cell_type": "code",
   "execution_count": 6,
   "metadata": {},
   "outputs": [],
   "source": [
    "trial_img = Image.open(\"data/trial_image.jpg\")"
   ]
  },
  {
   "cell_type": "code",
   "execution_count": 7,
   "metadata": {},
   "outputs": [],
   "source": [
    "inp_image = widgets.Output()\n",
    "inp_image.clear_output()"
   ]
  },
  {
   "cell_type": "code",
   "execution_count": 8,
   "metadata": {},
   "outputs": [],
   "source": [
    "model_inf = Button(description=\"Detect\")"
   ]
  },
  {
   "cell_type": "code",
   "execution_count": 9,
   "metadata": {},
   "outputs": [],
   "source": [
    "out_labl = widgets.Label()"
   ]
  },
  {
   "cell_type": "code",
   "execution_count": 10,
   "metadata": {},
   "outputs": [],
   "source": [
    "out_prob = widgets.Output()"
   ]
  },
  {
   "cell_type": "code",
   "execution_count": 11,
   "metadata": {},
   "outputs": [],
   "source": [
    "img = Image.open(\"data/trial_image.jpg\")\n",
    "img = img.to_bytes_format()"
   ]
  },
  {
   "cell_type": "code",
   "execution_count": 12,
   "metadata": {},
   "outputs": [],
   "source": [
    "def on_click_predict(change):\n",
    "    try:\n",
    "        img=PILImage.create(file_btn.data[-1])\n",
    "    except IndexError:\n",
    "        img=Image.open(\"data/trial_image.jpg\")\n",
    "        img=img.to_bytes_format()\n",
    "        img=PILImage.create(img)\n",
    "    inp_image.clear_output()\n",
    "    with inp_image:\n",
    "        display(img.to_thumb(256))\n",
    "    ship_pred,idx,probs=learn_inf.predict(img)\n",
    "    probs = probs.numpy()\n",
    "    text=f\"Prediction: {full_names[ship_pred]} with probabilty {round(probs[idx]*100,2)}%.\"\n",
    "    out_labl.value=text\n",
    "    out_prob.clear_output()\n",
    "    with out_prob:\n",
    "        plt.bar(learn_inf.dls.vocab, probs*100);\n",
    "        plt.ylabel(\"Probability\");\n",
    "        display(plt.show());"
   ]
  },
  {
   "cell_type": "code",
   "execution_count": 13,
   "metadata": {},
   "outputs": [],
   "source": [
    "model_inf.on_click(on_click_predict)"
   ]
  },
  {
   "cell_type": "markdown",
   "metadata": {},
   "source": [
    "# Ship prediction\n",
    "\n",
    "### Identify the kind of large ship by uploading your image\n",
    "\n",
    "- Upload your image by clicking on the `Upload` button\n",
    "- Click on `Detect` to view our prediction based on deep learning methods!\n",
    "    - You can even start by clicking on `Detect`"
   ]
  },
  {
   "cell_type": "code",
   "execution_count": 14,
   "metadata": {
    "collapsed": true
   },
   "outputs": [
    {
     "data": {
      "application/vnd.jupyter.widget-view+json": {
       "model_id": "6513e3e49c7b460bbdef24cf18e89643",
       "version_major": 2,
       "version_minor": 0
      },
      "text/plain": [
       "VBox(children=(FileUpload(value={}, description='Upload'), Output(), Button(description='Detect', style=Button…"
      ]
     },
     "metadata": {},
     "output_type": "display_data"
    },
    {
     "data": {
      "text/html": [],
      "text/plain": [
       "<IPython.core.display.HTML object>"
      ]
     },
     "metadata": {},
     "output_type": "display_data"
    }
   ],
   "source": [
    "VBox([file_btn, inp_image, model_inf, out_labl, out_prob])"
   ]
  }
 ],
 "metadata": {
  "@webio": {
   "lastCommId": null,
   "lastKernelId": null
  },
  "kernelspec": {
   "display_name": "Python 3",
   "language": "python",
   "name": "python3"
  },
  "language_info": {
   "codemirror_mode": {
    "name": "ipython",
    "version": 3
   },
   "file_extension": ".py",
   "mimetype": "text/x-python",
   "name": "python",
   "nbconvert_exporter": "python",
   "pygments_lexer": "ipython3",
   "version": "3.7.9"
  }
 },
 "nbformat": 4,
 "nbformat_minor": 4
}
